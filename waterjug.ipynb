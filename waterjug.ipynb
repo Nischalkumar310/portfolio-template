{
  "nbformat": 4,
  "nbformat_minor": 0,
  "metadata": {
    "colab": {
      "provenance": [],
      "authorship_tag": "ABX9TyO/mZnj4ojmqDe5hjVb03vK",
      "include_colab_link": true
    },
    "kernelspec": {
      "name": "python3",
      "display_name": "Python 3"
    },
    "language_info": {
      "name": "python"
    }
  },
  "cells": [
    {
      "cell_type": "markdown",
      "metadata": {
        "id": "view-in-github",
        "colab_type": "text"
      },
      "source": [
        "<a href=\"https://colab.research.google.com/github/Nischalkumar310/portfolio-template/blob/main/waterjug.ipynb\" target=\"_parent\"><img src=\"https://colab.research.google.com/assets/colab-badge.svg\" alt=\"Open In Colab\"/></a>"
      ]
    },
    {
      "cell_type": "code",
      "execution_count": null,
      "metadata": {
        "colab": {
          "base_uri": "https://localhost:8080/"
        },
        "id": "Ews9jI9orXPz",
        "outputId": "d22d7dd1-db56-4ea0-b89c-6b7e05db4a51"
      },
      "outputs": [
        {
          "output_type": "stream",
          "name": "stdout",
          "text": [
            "Enter the capacity of Jug1: 4\n",
            "Enter the capacity of Jug2: 3\n",
            "Enter the target: 2\n",
            "Path from initial state to solution state :\n",
            "( 0 , 0 )\n",
            "( 0 , 3 )\n",
            "( 4 , 0 )\n",
            "( 4 , 3 )\n",
            "( 3 , 0 )\n",
            "( 1 , 3 )\n",
            "( 3 , 3 )\n",
            "( 4 , 2 )\n",
            "( 0 , 2 )\n"
          ]
        }
      ],
      "source": [
        "from collections import deque\n",
        "def Solution(a, b, target):\n",
        "\tm = {}\n",
        "\tisSolvable = False\n",
        "\tpath = []\n",
        "\tq = deque()\n",
        "\tq.append((0, 0))\n",
        "\twhile (len(q) > 0):\n",
        "\t\tu = q.popleft()\n",
        "\t\tif ((u[0], u[1]) in m):\n",
        "\t\t\tcontinue\n",
        "\t\tif ((u[0] > a or u[1] > b or\n",
        "\t\t\tu[0] < 0 or u[1] < 0)):\n",
        "\t\t\tcontinue\n",
        "\t\tpath.append([u[0], u[1]])\n",
        "\t\tm[(u[0], u[1])] = 1\n",
        "\t\tif (u[0] == target or u[1] == target):\n",
        "\t\t\tisSolvable = True\n",
        "\t\t\tif (u[0] == target):\n",
        "\t\t\t\tif (u[1] != 0):\n",
        "\t\t\t\t\tpath.append([u[0], 0])\n",
        "\t\t\telse:\n",
        "\t\t\t\tif (u[0] != 0):\n",
        "\n",
        "\t\t\t\t\tpath.append([0, u[1]])\n",
        "\t\t\tsz = len(path)\n",
        "\t\t\tfor i in range(sz):\n",
        "\t\t\t\tprint(\"(\", path[i][0], \",\",\n",
        "\t\t\t\t\tpath[i][1], \")\")\n",
        "\t\t\tbreak\n",
        "\t\tq.append([u[0], b])\n",
        "\t\tq.append([a, u[1]]) \n",
        "\t\tfor ap in range(max(a, b) + 1):\n",
        "\t\t\tc = u[0] + ap\n",
        "\t\t\td = u[1] - ap\n",
        "\t\t\tif (c == a or (d == 0 and d >= 0)):\n",
        "\t\t\t\tq.append([c, d])\n",
        "\t\t\tc = u[0] - ap\n",
        "\t\t\td = u[1] + ap\n",
        "\t\t\tif ((c == 0 and c >= 0) or d == b):\n",
        "\t\t\t\tq.append([c, d])\n",
        "\t\tq.append([a, 0])\n",
        "\t\tq.append([0, b])\n",
        "\tif (not isSolvable):\n",
        "\t\tprint(\"Solution not possible\")\n",
        "\n",
        "if __name__ == '__main__':\n",
        "\n",
        "\tJug1 = int(input(\"Enter the capacity of Jug1: \"))\n",
        "\tJug2 = int(input(\"Enter the capacity of Jug2: \"))\n",
        "\ttarget = int(input(\"Enter the target: \"))\n",
        "\tprint(\"Path from initial state \"\n",
        "\t\t\"to solution state :\")\n",
        "\n",
        "\tSolution(Jug1, Jug2, target)\n"
      ]
    },
    {
      "cell_type": "code",
      "source": [
        "class Node:\n",
        "    def __init__(self, state, parent):\n",
        "        self.state = state\n",
        "        self.parent = parent\n",
        "   \n",
        "    def get_child_nodes(self, capacities):\n",
        "        a, b = self.state\n",
        "        max_a, max_b = capacities\n",
        "        children = []\n",
        "        children.append(Node((max_a, b), self))\n",
        "        children.append(Node((a, max_b), self))\n",
        "        children.append(Node((0, b), self))\n",
        "        children.append(Node((a, 0), self))\n",
        "        if a + b >= max_b:\n",
        "            children.append(Node((a - (max_b - b), max_b), self))\n",
        "        else:\n",
        "            children.append(Node((0, a + b), self))\n",
        "        if a + b >= max_a:\n",
        "            children.append(Node((max_a, b - (max_a - a)), self))\n",
        "        else:\n",
        "            children.append(Node((a + b, 0), self))\n",
        "        return children\n",
        "def dfs(start_state, goal_state, capacities):\n",
        "    start_node = Node(start_state, None)\n",
        "    visited = set()\n",
        "    stack = [start_node]\n",
        "   \n",
        "    while stack:\n",
        "        node = stack.pop()\n",
        "        if node.state == goal_state:\n",
        "            path = []\n",
        "            while node.parent:\n",
        "                path.append(node.state)\n",
        "                node = node.parent\n",
        "            path.append(start_state)\n",
        "            path.reverse()\n",
        "            return path\n",
        "        if node.state not in visited:\n",
        "            visited.add(node.state)\n",
        "            for child in node.get_child_nodes(capacities):\n",
        "                stack.append(child)\n",
        "   \n",
        "    return None\n",
        "start_state = (0, 0)\n",
        "a=int(input(\"Enter the capacity of jug1: \"))\n",
        "b=int(input(\"Enter the capacity of jug2: \"))\n",
        "c,d=map(int, input(\"Enter the target of goal state: \").split())\n",
        "goal_state = (c, d)\n",
        "capacities = (a, b)\n",
        "path = dfs(start_state, goal_state, capacities)\n",
        "i=0\n",
        "for i in range(len(path)):\n",
        "  print(path[i])"
      ],
      "metadata": {
        "colab": {
          "base_uri": "https://localhost:8080/"
        },
        "id": "1KpuoUbtrgjl",
        "outputId": "ae70a7ff-4b7c-4cf3-c942-303e14f6d95f"
      },
      "execution_count": null,
      "outputs": [
        {
          "output_type": "stream",
          "name": "stdout",
          "text": [
            "Enter the capacity of jug1: 4\n",
            "Enter the capacity of jug2: 3\n",
            "Enter the target of goal state: 2 0\n",
            "(0, 0)\n",
            "(0, 3)\n",
            "(3, 0)\n",
            "(3, 3)\n",
            "(4, 2)\n",
            "(4, 0)\n",
            "(1, 3)\n",
            "(1, 0)\n",
            "(0, 1)\n",
            "(4, 1)\n",
            "(2, 3)\n",
            "(2, 0)\n"
          ]
        }
      ]
    },
    {
      "cell_type": "code",
      "source": [
        "from collections import defaultdict\n",
        "jug1=int(input(\"Enter the capacity of jug1: \"))\n",
        "jug2=int(input(\"Enter the capacity of jug2: \"))\n",
        "target=int(input(\"Enter the target: \"))\n",
        "visited = defaultdict(lambda: False)\n",
        "def waterJugSolver(amt1, amt2):\n",
        "    if (amt1 == target and amt2 == 0) or (amt2 == target and amt1 == 0):\n",
        "        print(amt1, amt2)\n",
        "        return \n",
        "    if visited[(amt1, amt2)] == False:\n",
        "        print(amt1, amt2)\n",
        "        visited[(amt1, amt2)] = True\n",
        "        return (waterJugSolver(0, amt2) or\n",
        "                waterJugSolver(amt1, 0) or\n",
        "                waterJugSolver(jug1, amt2) or\n",
        "                waterJugSolver(amt1, jug2) or\n",
        "                waterJugSolver(amt1 + min(amt2, (jug1-amt1)),\n",
        "                amt2 - min(amt2, (jug1-amt1))) or\n",
        "                waterJugSolver(amt1 - min(amt1, (jug2-amt2)),\n",
        "                amt2 + min(amt1, (jug2-amt2))))\n",
        "    else:\n",
        "        return\n",
        "        \n",
        "print(\"Path: \")\n",
        "waterJugSolver(0, 0)\n",
        "\n",
        "\n"
      ],
      "metadata": {
        "colab": {
          "base_uri": "https://localhost:8080/"
        },
        "id": "HtluOjfgs-em",
        "outputId": "b811034c-c532-439a-8510-22bae60ab3ca"
      },
      "execution_count": null,
      "outputs": [
        {
          "output_type": "stream",
          "name": "stdout",
          "text": [
            "Enter the capacity of jug1: 4\n",
            "Enter the capacity of jug2: 3\n",
            "Enter the target: 2\n",
            "Path: \n",
            "0 0\n",
            "4 0\n",
            "4 3\n",
            "0 3\n",
            "3 0\n",
            "3 3\n",
            "4 2\n",
            "0 2\n",
            "1 3\n",
            "1 0\n",
            "0 1\n",
            "4 1\n",
            "2 3\n",
            "2 0\n"
          ]
        }
      ]
    },
    {
      "cell_type": "code",
      "source": [],
      "metadata": {
        "id": "0u2b1C6huASV"
      },
      "execution_count": null,
      "outputs": []
    }
  ]
}