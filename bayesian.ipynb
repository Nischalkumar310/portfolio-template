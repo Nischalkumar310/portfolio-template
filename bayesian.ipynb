{
  "nbformat": 4,
  "nbformat_minor": 0,
  "metadata": {
    "colab": {
      "provenance": [],
      "authorship_tag": "ABX9TyPfAwWQTfEH9TsXpQ4Bykrc",
      "include_colab_link": true
    },
    "kernelspec": {
      "name": "python3",
      "display_name": "Python 3"
    },
    "language_info": {
      "name": "python"
    }
  },
  "cells": [
    {
      "cell_type": "markdown",
      "metadata": {
        "id": "view-in-github",
        "colab_type": "text"
      },
      "source": [
        "<a href=\"https://colab.research.google.com/github/Nischalkumar310/portfolio-template/blob/main/bayesian.ipynb\" target=\"_parent\"><img src=\"https://colab.research.google.com/assets/colab-badge.svg\" alt=\"Open In Colab\"/></a>"
      ]
    },
    {
      "cell_type": "code",
      "source": [
        "pip install pgmpy"
      ],
      "metadata": {
        "colab": {
          "base_uri": "https://localhost:8080/"
        },
        "id": "C5sWXCeH8NHM",
        "outputId": "b6c6043e-9edb-4473-871d-ba0738640e71"
      },
      "execution_count": null,
      "outputs": [
        {
          "output_type": "stream",
          "name": "stdout",
          "text": [
            "Looking in indexes: https://pypi.org/simple, https://us-python.pkg.dev/colab-wheels/public/simple/\n",
            "Collecting pgmpy\n",
            "  Downloading pgmpy-0.1.22-py3-none-any.whl (1.9 MB)\n",
            "\u001b[2K     \u001b[90m━━━━━━━━━━━━━━━━━━━━━━━━━━━━━━━━━━━━━━━━\u001b[0m \u001b[32m1.9/1.9 MB\u001b[0m \u001b[31m9.6 MB/s\u001b[0m eta \u001b[36m0:00:00\u001b[0m\n",
            "\u001b[?25hRequirement already satisfied: scipy in /usr/local/lib/python3.9/dist-packages (from pgmpy) (1.10.1)\n",
            "Requirement already satisfied: numpy in /usr/local/lib/python3.9/dist-packages (from pgmpy) (1.22.4)\n",
            "Requirement already satisfied: pyparsing in /usr/local/lib/python3.9/dist-packages (from pgmpy) (3.0.9)\n",
            "Requirement already satisfied: tqdm in /usr/local/lib/python3.9/dist-packages (from pgmpy) (4.65.0)\n",
            "Requirement already satisfied: scikit-learn in /usr/local/lib/python3.9/dist-packages (from pgmpy) (1.2.2)\n",
            "Requirement already satisfied: torch in /usr/local/lib/python3.9/dist-packages (from pgmpy) (2.0.0+cu118)\n",
            "Requirement already satisfied: statsmodels in /usr/local/lib/python3.9/dist-packages (from pgmpy) (0.13.5)\n",
            "Requirement already satisfied: opt-einsum in /usr/local/lib/python3.9/dist-packages (from pgmpy) (3.3.0)\n",
            "Requirement already satisfied: pandas in /usr/local/lib/python3.9/dist-packages (from pgmpy) (1.5.3)\n",
            "Requirement already satisfied: networkx in /usr/local/lib/python3.9/dist-packages (from pgmpy) (3.1)\n",
            "Requirement already satisfied: joblib in /usr/local/lib/python3.9/dist-packages (from pgmpy) (1.2.0)\n",
            "Requirement already satisfied: pytz>=2020.1 in /usr/local/lib/python3.9/dist-packages (from pandas->pgmpy) (2022.7.1)\n",
            "Requirement already satisfied: python-dateutil>=2.8.1 in /usr/local/lib/python3.9/dist-packages (from pandas->pgmpy) (2.8.2)\n",
            "Requirement already satisfied: threadpoolctl>=2.0.0 in /usr/local/lib/python3.9/dist-packages (from scikit-learn->pgmpy) (3.1.0)\n",
            "Requirement already satisfied: packaging>=21.3 in /usr/local/lib/python3.9/dist-packages (from statsmodels->pgmpy) (23.0)\n",
            "Requirement already satisfied: patsy>=0.5.2 in /usr/local/lib/python3.9/dist-packages (from statsmodels->pgmpy) (0.5.3)\n",
            "Requirement already satisfied: sympy in /usr/local/lib/python3.9/dist-packages (from torch->pgmpy) (1.11.1)\n",
            "Requirement already satisfied: typing-extensions in /usr/local/lib/python3.9/dist-packages (from torch->pgmpy) (4.5.0)\n",
            "Requirement already satisfied: jinja2 in /usr/local/lib/python3.9/dist-packages (from torch->pgmpy) (3.1.2)\n",
            "Requirement already satisfied: filelock in /usr/local/lib/python3.9/dist-packages (from torch->pgmpy) (3.11.0)\n",
            "Requirement already satisfied: triton==2.0.0 in /usr/local/lib/python3.9/dist-packages (from torch->pgmpy) (2.0.0)\n",
            "Requirement already satisfied: cmake in /usr/local/lib/python3.9/dist-packages (from triton==2.0.0->torch->pgmpy) (3.25.2)\n",
            "Requirement already satisfied: lit in /usr/local/lib/python3.9/dist-packages (from triton==2.0.0->torch->pgmpy) (16.0.0)\n",
            "Requirement already satisfied: six in /usr/local/lib/python3.9/dist-packages (from patsy>=0.5.2->statsmodels->pgmpy) (1.16.0)\n",
            "Requirement already satisfied: MarkupSafe>=2.0 in /usr/local/lib/python3.9/dist-packages (from jinja2->torch->pgmpy) (2.1.2)\n",
            "Requirement already satisfied: mpmath>=0.19 in /usr/local/lib/python3.9/dist-packages (from sympy->torch->pgmpy) (1.3.0)\n",
            "Installing collected packages: pgmpy\n",
            "Successfully installed pgmpy-0.1.22\n"
          ]
        }
      ]
    },
    {
      "cell_type": "code",
      "execution_count": null,
      "metadata": {
        "id": "iufQHlHR4WG0"
      },
      "outputs": [],
      "source": [
        "import pgmpy.models\n",
        "import pgmpy.inference\n",
        "import networkx as nx\n",
        "import pylab as plt\n"
      ]
    },
    {
      "cell_type": "code",
      "source": [
        "# Create a bayesian network \n",
        "model = pgmpy.models.BayesianModel([('Burglary', 'Alarm'), \n",
        "                                    ('Earthquake', 'Alarm'),\n",
        "                                    ('Alarm', 'JohnCalls'), \n",
        "                                    ('Alarm', 'MaryCalls')])\n",
        "\n",
        "cpd_burglary = pgmpy.factors.discrete.TabularCPD('Burglary', 2, [[0.001], [0.999]])\n",
        "cpd_earthquake = pgmpy.factors.discrete.TabularCPD('Earthquake', 2, [[0.002], [0.998]])\n",
        "cpd_alarm = pgmpy.factors.discrete.TabularCPD('Alarm', 2, [[0.95, 0.94, 0.29, 0.001], [0.05, 0.06, 0.71, 0.999]],                              evidence=['Burglary', 'Earthquake'],                                             evidence_card=[2, 2])\n",
        "cpd_john = pgmpy.factors.discrete.TabularCPD('JohnCalls', 2, [[0.90, 0.05], \n",
        "                                                           [0.10, 0.95]], \n",
        "                                              evidence=['Alarm'], \n",
        "                                              evidence_card=[2])\n",
        "cpd_mary = pgmpy.factors.discrete.TabularCPD('MaryCalls', 2, [[0.70, 0.01], \n",
        "                                                           [0.30, 0.99]], \n",
        "                                              evidence=['Alarm'], \n",
        "                                              evidence_card=[2])\n",
        "\n",
        "model.add_cpds(cpd_burglary, cpd_earthquake, cpd_alarm, cpd_john, cpd_mary)\n",
        "model.check_model()\n",
        "\n",
        "# Print probability distributions\n",
        "print('Probability distribution, P(Burglary)')\n",
        "print(cpd_burglary)\n",
        "print()\n",
        "print('Probability distribution, P(Earthquake)')\n",
        "print(cpd_earthquake)\n",
        "print()\n",
        "print('Joint probability distribution, P(Alarm | Burglary, Earthquake)')\n",
        "print(cpd_alarm)\n",
        "print()\n",
        "print('Joint probability distribution, P(JohnCalls | Alarm)')\n",
        "print(cpd_john)\n",
        "print()\n",
        "print('Joint probability distribution, P(MaryCalls | Alarm)')\n",
        "print(cpd_mary)\n",
        "print()\n",
        "\n",
        "infer = pgmpy.inference.VariableElimination(model)\n",
        "\n",
        "# Calculate the probability of a burglary if John and Mary calls (0: True, 1: False)\n",
        "posterior_probability = infer.query(['Burglary'], evidence={'JohnCalls': 0, 'MaryCalls': 0})\n",
        "# Print posterior probability\n",
        "print('Posterior probability of Burglary if JohnCalls(True) and MaryCalls(True)')\n",
        "print(posterior_probability)\n",
        "print()\n",
        "\n",
        "\n",
        "# Calculate the probability of alarm starting if there is a burglary and an earthquake (0: True, 1: False)\n",
        "posterior_probability = infer.query(['Alarm'], evidence={'Burglary': 0, 'Earthquake': 0})\n",
        "# Print posterior probability\n",
        "print('Posterior probability of Alarm sounding if Burglary(True) and Earthquake(True)')\n",
        "print(posterior_probability)"
      ],
      "metadata": {
        "id": "SkdKBEqe4v7y",
        "colab": {
          "base_uri": "https://localhost:8080/"
        },
        "outputId": "1fa7b884-81c8-4875-ca30-c5d47d75aa1c"
      },
      "execution_count": null,
      "outputs": [
        {
          "output_type": "stream",
          "name": "stdout",
          "text": [
            "Probability distribution, P(Burglary)\n",
            "+-------------+-------+\n",
            "| Burglary(0) | 0.001 |\n",
            "+-------------+-------+\n",
            "| Burglary(1) | 0.999 |\n",
            "+-------------+-------+\n",
            "\n",
            "Probability distribution, P(Earthquake)\n",
            "+---------------+-------+\n",
            "| Earthquake(0) | 0.002 |\n",
            "+---------------+-------+\n",
            "| Earthquake(1) | 0.998 |\n",
            "+---------------+-------+\n",
            "\n",
            "Joint probability distribution, P(Alarm | Burglary, Earthquake)\n",
            "+------------+---------------+---------------+---------------+---------------+\n",
            "| Burglary   | Burglary(0)   | Burglary(0)   | Burglary(1)   | Burglary(1)   |\n",
            "+------------+---------------+---------------+---------------+---------------+\n",
            "| Earthquake | Earthquake(0) | Earthquake(1) | Earthquake(0) | Earthquake(1) |\n",
            "+------------+---------------+---------------+---------------+---------------+\n",
            "| Alarm(0)   | 0.95          | 0.94          | 0.29          | 0.001         |\n",
            "+------------+---------------+---------------+---------------+---------------+\n",
            "| Alarm(1)   | 0.05          | 0.06          | 0.71          | 0.999         |\n",
            "+------------+---------------+---------------+---------------+---------------+\n",
            "\n",
            "Joint probability distribution, P(JohnCalls | Alarm)\n",
            "+--------------+----------+----------+\n",
            "| Alarm        | Alarm(0) | Alarm(1) |\n",
            "+--------------+----------+----------+\n",
            "| JohnCalls(0) | 0.9      | 0.05     |\n",
            "+--------------+----------+----------+\n",
            "| JohnCalls(1) | 0.1      | 0.95     |\n",
            "+--------------+----------+----------+\n",
            "\n",
            "Joint probability distribution, P(MaryCalls | Alarm)\n",
            "+--------------+----------+----------+\n",
            "| Alarm        | Alarm(0) | Alarm(1) |\n",
            "+--------------+----------+----------+\n",
            "| MaryCalls(0) | 0.7      | 0.01     |\n",
            "+--------------+----------+----------+\n",
            "| MaryCalls(1) | 0.3      | 0.99     |\n",
            "+--------------+----------+----------+\n",
            "\n",
            "Posterior probability of Burglary if JohnCalls(True) and MaryCalls(True)\n",
            "+-------------+-----------------+\n",
            "| Burglary    |   phi(Burglary) |\n",
            "+=============+=================+\n",
            "| Burglary(0) |          0.2842 |\n",
            "+-------------+-----------------+\n",
            "| Burglary(1) |          0.7158 |\n",
            "+-------------+-----------------+\n",
            "\n",
            "Posterior probability of Alarm sounding if Burglary(True) and Earthquake(True)\n",
            "+----------+--------------+\n",
            "| Alarm    |   phi(Alarm) |\n",
            "+==========+==============+\n",
            "| Alarm(0) |       0.9500 |\n",
            "+----------+--------------+\n",
            "| Alarm(1) |       0.0500 |\n",
            "+----------+--------------+\n"
          ]
        }
      ]
    }
  ]
}