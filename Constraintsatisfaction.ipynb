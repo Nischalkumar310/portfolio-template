{
  "nbformat": 4,
  "nbformat_minor": 0,
  "metadata": {
    "colab": {
      "provenance": [],
      "authorship_tag": "ABX9TyMrU374tkkmAZOoAhJuKmHG",
      "include_colab_link": true
    },
    "kernelspec": {
      "name": "python3",
      "display_name": "Python 3"
    },
    "language_info": {
      "name": "python"
    }
  },
  "cells": [
    {
      "cell_type": "markdown",
      "metadata": {
        "id": "view-in-github",
        "colab_type": "text"
      },
      "source": [
        "<a href=\"https://colab.research.google.com/github/Nischalkumar310/portfolio-template/blob/main/Constraintsatisfaction.ipynb\" target=\"_parent\"><img src=\"https://colab.research.google.com/assets/colab-badge.svg\" alt=\"Open In Colab\"/></a>"
      ]
    },
    {
      "cell_type": "code",
      "source": [
        "pip install simpleai"
      ],
      "metadata": {
        "colab": {
          "base_uri": "https://localhost:8080/"
        },
        "id": "6aKhD5uAvCWY",
        "outputId": "7a47718e-9ca6-47f7-daaf-a09e9827fbe7"
      },
      "execution_count": null,
      "outputs": [
        {
          "output_type": "stream",
          "name": "stdout",
          "text": [
            "Looking in indexes: https://pypi.org/simple, https://us-python.pkg.dev/colab-wheels/public/simple/\n",
            "Collecting simpleai\n",
            "  Downloading simpleai-0.8.3.tar.gz (94 kB)\n",
            "\u001b[2K     \u001b[90m━━━━━━━━━━━━━━━━━━━━━━━━━━━━━━━━━━━━━━━━\u001b[0m \u001b[32m94.4/94.4 kB\u001b[0m \u001b[31m5.4 MB/s\u001b[0m eta \u001b[36m0:00:00\u001b[0m\n",
            "\u001b[?25h  Preparing metadata (setup.py) ... \u001b[?25l\u001b[?25hdone\n",
            "Building wheels for collected packages: simpleai\n",
            "  Building wheel for simpleai (setup.py) ... \u001b[?25l\u001b[?25hdone\n",
            "  Created wheel for simpleai: filename=simpleai-0.8.3-py3-none-any.whl size=100996 sha256=8b401c7ea65d424ff8904c8c8089e986bd1134f8ffb183ceabb61d751be6f985\n",
            "  Stored in directory: /root/.cache/pip/wheels/91/0c/38/421d7910e7bc59b97fc54f490808bdb1097607d83d1a592865\n",
            "Successfully built simpleai\n",
            "Installing collected packages: simpleai\n",
            "Successfully installed simpleai-0.8.3\n"
          ]
        }
      ]
    },
    {
      "cell_type": "code",
      "execution_count": null,
      "metadata": {
        "colab": {
          "base_uri": "https://localhost:8080/"
        },
        "id": "ZprEUwczvBMT",
        "outputId": "53e6c30c-a4dc-42c5-9419-f1b5d26491ed"
      },
      "outputs": [
        {
          "output_type": "stream",
          "name": "stdout",
          "text": [
            "\n",
            "Color mapping:\n",
            "\n",
            "Ma ==> red\n",
            "Ju ==> green\n",
            "St ==> blue\n",
            "Am ==> red\n",
            "Br ==> red\n",
            "Jo ==> green\n",
            "De ==> blue\n",
            "Al ==> red\n",
            "Mi ==> gray\n",
            "Ke ==> gray\n"
          ]
        }
      ],
      "source": [
        "from simpleai.search import CspProblem, backtrack\n",
        "def constraint_func(names, values):\n",
        "\treturn values[0] != values[1]\n",
        "\n",
        "if __name__=='__main__':\n",
        "\tnames = ('Ma', 'Ju', 'St', 'Am', 'Br',\n",
        "\t\t'Jo', 'De', 'Al', 'Mi', 'Ke')\n",
        "\tcolors = dict((name, ['red', 'green', 'blue', 'gray']) for name in names)\n",
        "\tconstraints = [\n",
        "\t\t(('Ma', 'Ju'), constraint_func),\n",
        "\t\t(('Ma', 'St'), constraint_func),\n",
        "\t\t(('Ju', 'St'), constraint_func),\n",
        "\t\t(('Ju', 'Am'), constraint_func),\n",
        "\t\t(('Ju', 'De'), constraint_func),\n",
        "\t\t(('Ju', 'Br'), constraint_func),\n",
        "\t\t(('St', 'Am'), constraint_func),\n",
        "\t\t(('St', 'Al'), constraint_func),\n",
        "\t\t(('St', 'Mi'), constraint_func),\n",
        "\t\t(('Am', 'Mi'), constraint_func),\n",
        "\t\t(('Am', 'Jo'), constraint_func),\n",
        "\t\t(('Am', 'De'), constraint_func),\n",
        "\t\t(('Br', 'De'), constraint_func),\n",
        "\t\t(('Br', 'Ke'), constraint_func),\n",
        "\t\t(('Jo', 'Mi'), constraint_func),\n",
        "\t\t(('Jo', 'Am'), constraint_func),\n",
        "\t\t(('Jo', 'De'), constraint_func),\n",
        "\t\t(('Jo', 'Ke'), constraint_func),\n",
        "\t\t(('De', 'Ke'), constraint_func),\n",
        "\t]\n",
        "\tproblem = CspProblem(names, colors, constraints)\n",
        "\toutput = backtrack(problem)\n",
        "\tprint('\\nColor mapping:\\n')\n",
        "\tfor k, v in output.items():\n",
        "\t\tprint(k, '==>', v)\n"
      ]
    },
    {
      "cell_type": "code",
      "source": [],
      "metadata": {
        "id": "TQItN2jOvK34"
      },
      "execution_count": null,
      "outputs": []
    }
  ]
}