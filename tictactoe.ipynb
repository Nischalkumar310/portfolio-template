{
  "nbformat": 4,
  "nbformat_minor": 0,
  "metadata": {
    "colab": {
      "provenance": [],
      "authorship_tag": "ABX9TyO8Q1sRaj0FTUPoLdfGWZqW",
      "include_colab_link": true
    },
    "kernelspec": {
      "name": "python3",
      "display_name": "Python 3"
    },
    "language_info": {
      "name": "python"
    }
  },
  "cells": [
    {
      "cell_type": "markdown",
      "metadata": {
        "id": "view-in-github",
        "colab_type": "text"
      },
      "source": [
        "<a href=\"https://colab.research.google.com/github/Nischalkumar310/portfolio-template/blob/main/tictactoe.ipynb\" target=\"_parent\"><img src=\"https://colab.research.google.com/assets/colab-badge.svg\" alt=\"Open In Colab\"/></a>"
      ]
    },
    {
      "cell_type": "code",
      "execution_count": null,
      "metadata": {
        "colab": {
          "base_uri": "https://localhost:8080/"
        },
        "id": "K5zhX3z1vexn",
        "outputId": "ed90793b-9b16-4f4e-c481-4497eb06bd3f"
      },
      "outputs": [
        {
          "output_type": "stream",
          "name": "stdout",
          "text": [
            "Looking in indexes: https://pypi.org/simple, https://us-python.pkg.dev/colab-wheels/public/simple/\n",
            "Collecting easyai\n",
            "  Downloading easyAI-2.0.12-py3-none-any.whl (42 kB)\n",
            "\u001b[2K     \u001b[90m━━━━━━━━━━━━━━━━━━━━━━━━━━━━━━━━━━━━━━━━\u001b[0m \u001b[32m42.2/42.2 kB\u001b[0m \u001b[31m2.6 MB/s\u001b[0m eta \u001b[36m0:00:00\u001b[0m\n",
            "\u001b[?25hRequirement already satisfied: numpy in /usr/local/lib/python3.10/dist-packages (from easyai) (1.22.4)\n",
            "Installing collected packages: easyai\n",
            "Successfully installed easyai-2.0.12\n"
          ]
        }
      ],
      "source": [
        "pip install easyai"
      ]
    },
    {
      "cell_type": "code",
      "source": [
        "from easyAI import TwoPlayerGame\n",
        "from easyAI.Player import Human_Player\n",
        "class TicTacToe(TwoPlayerGame):\n",
        "    def __init__(self, players):\n",
        "        self.players = players\n",
        "        self.board = [0 for i in range(9)]\n",
        "        self.current_player = 1\n",
        "    def possible_moves(self):\n",
        "        return [i + 1 for i, e in enumerate(self.board) if e == 0]\n",
        "    def make_move(self, move):\n",
        "        self.board[int(move) - 1] = self.current_player\n",
        "    def unmake_move(self, move):\n",
        "        self.board[int(move) - 1] = 0\n",
        "    def lose(self):\n",
        "        return any(\n",
        "            [\n",
        "                all([(self.board[c - 1] == self.opponent_index) for c in line])\n",
        "                for line in [\n",
        "                    [1, 2, 3],\n",
        "                    [4, 5, 6],\n",
        "                    [7, 8, 9],\n",
        "                    [1, 4, 7],\n",
        "                    [2, 5, 8],\n",
        "                    [3, 6, 9],\n",
        "                    [1, 5, 9],\n",
        "                    [3, 5, 7],\n",
        "                ]\n",
        "            ]\n",
        "        )\n",
        "    def is_over(self):\n",
        "        return (self.possible_moves() == []) or self.lose()\n",
        "    def show(self):\n",
        "        print(\n",
        "            \"\\n\"\n",
        "            + \"\\n\".join(\n",
        "                [\n",
        "                    \" \".join([[\".\", \"O\", \"X\"][self.board[3 * j + i]] for i in range(3)])\n",
        "                    for j in range(3)\n",
        "                 ]\n",
        "            )\n",
        "        )\n",
        "    def scoring(self):\n",
        "        return -100 if self.lose() else 0\n",
        "if __name__ == \"__main__\":\n",
        "    from easyAI import AI_Player, Negamax\n",
        "    ai_algo = Negamax(6)\n",
        "    TicTacToe([Human_Player(), AI_Player(ai_algo)]).play()\n"
      ],
      "metadata": {
        "colab": {
          "base_uri": "https://localhost:8080/"
        },
        "id": "KAGE83ZRvlpl",
        "outputId": "b868018c-04af-4652-9c79-ff96587574f1"
      },
      "execution_count": null,
      "outputs": [
        {
          "output_type": "stream",
          "name": "stdout",
          "text": [
            "\n",
            ". . .\n",
            ". . .\n",
            ". . .\n",
            "\n",
            "Player 1 what do you play ? 5\n",
            "\n",
            "Move #1: player 1 plays 5 :\n",
            "\n",
            ". . .\n",
            ". O .\n",
            ". . .\n",
            "\n",
            "Move #2: player 2 plays 1 :\n",
            "\n",
            "X . .\n",
            ". O .\n",
            ". . .\n",
            "\n",
            "Player 1 what do you play ? 6\n",
            "\n",
            "Move #3: player 1 plays 6 :\n",
            "\n",
            "X . .\n",
            ". O O\n",
            ". . .\n",
            "\n",
            "Move #4: player 2 plays 4 :\n",
            "\n",
            "X . .\n",
            "X O O\n",
            ". . .\n",
            "\n",
            "Player 1 what do you play ? 7\n",
            "\n",
            "Move #5: player 1 plays 7 :\n",
            "\n",
            "X . .\n",
            "X O O\n",
            "O . .\n",
            "\n",
            "Move #6: player 2 plays 3 :\n",
            "\n",
            "X . X\n",
            "X O O\n",
            "O . .\n",
            "\n",
            "Player 1 what do you play ? 2\n",
            "\n",
            "Move #7: player 1 plays 2 :\n",
            "\n",
            "X O X\n",
            "X O O\n",
            "O . .\n",
            "\n",
            "Move #8: player 2 plays 8 :\n",
            "\n",
            "X O X\n",
            "X O O\n",
            "O X .\n",
            "\n",
            "Player 1 what do you play ? 9\n",
            "\n",
            "Move #9: player 1 plays 9 :\n",
            "\n",
            "X O X\n",
            "X O O\n",
            "O X O\n"
          ]
        }
      ]
    },
    {
      "cell_type": "code",
      "source": [],
      "metadata": {
        "id": "Pn2PAEPovrEA"
      },
      "execution_count": null,
      "outputs": []
    }
  ]
}