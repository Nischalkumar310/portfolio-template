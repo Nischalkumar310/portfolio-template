{
  "nbformat": 4,
  "nbformat_minor": 0,
  "metadata": {
    "colab": {
      "provenance": [],
      "authorship_tag": "ABX9TyN/+Px1o3wG1e/4S534XkbO",
      "include_colab_link": true
    },
    "kernelspec": {
      "name": "python3",
      "display_name": "Python 3"
    },
    "language_info": {
      "name": "python"
    }
  },
  "cells": [
    {
      "cell_type": "markdown",
      "metadata": {
        "id": "view-in-github",
        "colab_type": "text"
      },
      "source": [
        "<a href=\"https://colab.research.google.com/github/Nischalkumar310/portfolio-template/blob/main/8puzzleproblem.ipynb\" target=\"_parent\"><img src=\"https://colab.research.google.com/assets/colab-badge.svg\" alt=\"Open In Colab\"/></a>"
      ]
    },
    {
      "cell_type": "code",
      "source": [
        "pip install simpleai"
      ],
      "metadata": {
        "colab": {
          "base_uri": "https://localhost:8080/"
        },
        "id": "uM64zxpftcN9",
        "outputId": "bf9580cd-06b7-4ca6-92de-ce2bb24ebd83"
      },
      "execution_count": null,
      "outputs": [
        {
          "output_type": "stream",
          "name": "stdout",
          "text": [
            "Looking in indexes: https://pypi.org/simple, https://us-python.pkg.dev/colab-wheels/public/simple/\n",
            "Collecting simpleai\n",
            "  Downloading simpleai-0.8.3.tar.gz (94 kB)\n",
            "\u001b[2K     \u001b[90m━━━━━━━━━━━━━━━━━━━━━━━━━━━━━━━━━━━━━━━━\u001b[0m \u001b[32m94.4/94.4 kB\u001b[0m \u001b[31m3.4 MB/s\u001b[0m eta \u001b[36m0:00:00\u001b[0m\n",
            "\u001b[?25h  Preparing metadata (setup.py) ... \u001b[?25l\u001b[?25hdone\n",
            "Building wheels for collected packages: simpleai\n",
            "  Building wheel for simpleai (setup.py) ... \u001b[?25l\u001b[?25hdone\n",
            "  Created wheel for simpleai: filename=simpleai-0.8.3-py3-none-any.whl size=100996 sha256=a6508629578eb0ed79d7e3346150f619e8195b0de79525bcf188a2e5f519c8f0\n",
            "  Stored in directory: /root/.cache/pip/wheels/91/0c/38/421d7910e7bc59b97fc54f490808bdb1097607d83d1a592865\n",
            "Successfully built simpleai\n",
            "Installing collected packages: simpleai\n",
            "Successfully installed simpleai-0.8.3\n"
          ]
        }
      ]
    },
    {
      "cell_type": "code",
      "execution_count": null,
      "metadata": {
        "colab": {
          "base_uri": "https://localhost:8080/"
        },
        "id": "QMcNSdW8tJnV",
        "outputId": "aed630d2-c22c-480e-be21-2a1be5c5646a"
      },
      "outputs": [
        {
          "output_type": "stream",
          "name": "stdout",
          "text": [
            "\n",
            "Initial configuration\n",
            "1-e-2\n",
            "6-3-4\n",
            "7-5-8\n",
            "\n",
            "After moving 2 into the empty space\n",
            "1-2-e\n",
            "6-3-4\n",
            "7-5-8\n",
            "\n",
            "After moving 4 into the empty space\n",
            "1-2-4\n",
            "6-3-e\n",
            "7-5-8\n",
            "\n",
            "After moving 3 into the empty space\n",
            "1-2-4\n",
            "6-e-3\n",
            "7-5-8\n",
            "\n",
            "After moving 6 into the empty space\n",
            "1-2-4\n",
            "e-6-3\n",
            "7-5-8\n",
            "\n",
            "After moving 1 into the empty space\n",
            "e-2-4\n",
            "1-6-3\n",
            "7-5-8\n",
            "\n",
            "After moving 2 into the empty space\n",
            "2-e-4\n",
            "1-6-3\n",
            "7-5-8\n",
            "\n",
            "After moving 4 into the empty space\n",
            "2-4-e\n",
            "1-6-3\n",
            "7-5-8\n",
            "\n",
            "After moving 3 into the empty space\n",
            "2-4-3\n",
            "1-6-e\n",
            "7-5-8\n",
            "\n",
            "After moving 6 into the empty space\n",
            "2-4-3\n",
            "1-e-6\n",
            "7-5-8\n",
            "\n",
            "After moving 4 into the empty space\n",
            "2-e-3\n",
            "1-4-6\n",
            "7-5-8\n",
            "\n",
            "After moving 2 into the empty space\n",
            "e-2-3\n",
            "1-4-6\n",
            "7-5-8\n",
            "\n",
            "After moving 1 into the empty space\n",
            "1-2-3\n",
            "e-4-6\n",
            "7-5-8\n",
            "\n",
            "After moving 4 into the empty space\n",
            "1-2-3\n",
            "4-e-6\n",
            "7-5-8\n",
            "\n",
            "After moving 5 into the empty space\n",
            "1-2-3\n",
            "4-5-6\n",
            "7-e-8\n",
            "\n",
            "After moving 8 into the empty space. Goal achieved!\n",
            "1-2-3\n",
            "4-5-6\n",
            "7-8-e\n"
          ]
        }
      ],
      "source": [
        "from simpleai.search import astar, SearchProblem\n",
        "class PuzzleSolver(SearchProblem):\n",
        "\tdef actions(self, cur_state):\n",
        "\t\trows = string_to_list(cur_state)\n",
        "\t\trow_empty, col_empty = get_location(rows, 'e')\n",
        "\t\tactions = []\n",
        "\t\tif row_empty > 0:\n",
        "\t\t\tactions.append(rows[row_empty - 1][col_empty])\n",
        "\t\tif row_empty < 2:\n",
        "\t\t\tactions.append(rows[row_empty + 1][col_empty])\n",
        "\t\tif col_empty > 0:\n",
        "\t\t\tactions.append(rows[row_empty][col_empty - 1])\n",
        "\t\tif col_empty < 2:\n",
        "\t\t\tactions.append(rows[row_empty][col_empty + 1])\n",
        "\t\treturn actions\n",
        "\tdef result(self, state, action):\n",
        "\t\trows = string_to_list(state)\n",
        "\t\trow_empty, col_empty = get_location(rows, 'e')\n",
        "\t\trow_new, col_new = get_location(rows, action)\n",
        "\t\trows[row_empty][col_empty], rows[row_new][col_new] = \\\n",
        "\t\t\trows[row_new][col_new], rows[row_empty][col_empty]\n",
        "\t\treturn list_to_string(rows)\n",
        "\tdef is_goal(self, state):\n",
        "\t\treturn state == GOAL\n",
        "\tdef heuristic(self, state):\n",
        "\t\trows = string_to_list(state)\n",
        "\t\tdistance = 0\n",
        "\t\tfor number in '12345678e':\n",
        "\t\t\trow_new, col_new = get_location(rows, number)\n",
        "\t\t\trow_new_goal, col_new_goal = goal_positions[number]\n",
        "\t\t\tdistance += abs(row_new - row_new_goal) + abs(col_new - col_new_goal)\n",
        "\t\treturn distance\n",
        "def list_to_string(input_list):\n",
        "\treturn '\\n'.join(['-'.join(x) for x in input_list])\n",
        "def string_to_list(input_string):\n",
        "\treturn [x.split('-') for x in input_string.split('\\n')]\n",
        "def get_location(rows, input_element):\n",
        "\tfor i, row in enumerate(rows):\n",
        "\t\tfor j, item in enumerate(row):\n",
        "\t\t\tif item == input_element:\n",
        "\t\t\t\treturn i, j\n",
        "GOAL = '''1-2-3\n",
        "4-5-6\n",
        "7-8-e'''\n",
        "INITIAL = '''1-e-2\n",
        "6-3-4\n",
        "7-5-8'''\n",
        "goal_positions = {}\n",
        "rows_goal = string_to_list(GOAL)\n",
        "for number in '12345678e':\n",
        "\tgoal_positions[number] = get_location(rows_goal, number)\n",
        "result = astar(PuzzleSolver(INITIAL))\n",
        "for i, (action, state) in enumerate(result.path()):\n",
        "\tprint()\n",
        "\tif action == None:\n",
        "\t\tprint('Initial configuration')\n",
        "\telif i == len(result.path()) - 1:\n",
        "\t\tprint('After moving', action, 'into the empty space. Goal achieved!')\n",
        "\telse:\n",
        "\t\tprint('After moving', action, 'into the empty space')\n",
        "\tprint(state)\n"
      ]
    },
    {
      "cell_type": "code",
      "source": [],
      "metadata": {
        "id": "o753vJjHtOE_"
      },
      "execution_count": null,
      "outputs": []
    }
  ]
}